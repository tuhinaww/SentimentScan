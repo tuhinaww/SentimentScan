{
 "cells": [
  {
   "cell_type": "code",
   "execution_count": 66,
   "metadata": {},
   "outputs": [],
   "source": [
    "## Importing Dependencies\n",
    "from transformers import AutoTokenizer, AutoModelForSequenceClassification\n",
    "import torch\n",
    "import requests\n",
    "from bs4 import BeautifulSoup\n",
    "import re"
   ]
  },
  {
   "cell_type": "code",
   "execution_count": 67,
   "metadata": {},
   "outputs": [],
   "source": [
    "# Setup the model\n",
    "tokenizer = AutoTokenizer.from_pretrained(\"nlptown/bert-base-multilingual-uncased-sentiment\")\n",
    "model = AutoModelForSequenceClassification.from_pretrained(\"nlptown/bert-base-multilingual-uncased-sentiment\")"
   ]
  },
  {
   "cell_type": "code",
   "execution_count": 68,
   "metadata": {},
   "outputs": [
    {
     "data": {
      "text/plain": [
       "tensor([[-1.4277, -1.2743, -0.1505,  0.9500,  1.5098]],\n",
       "       grad_fn=<AddmmBackward0>)"
      ]
     },
     "execution_count": 68,
     "metadata": {},
     "output_type": "execute_result"
    }
   ],
   "source": [
    "# Calculate Sentiment\n",
    "tokens = tokenizer.encode(\"Tasty!\", return_tensors = 'pt')\n",
    "result = model(tokens)\n",
    "result.logits"
   ]
  },
  {
   "cell_type": "code",
   "execution_count": 69,
   "metadata": {},
   "outputs": [
    {
     "data": {
      "text/plain": [
       "5"
      ]
     },
     "execution_count": 69,
     "metadata": {},
     "output_type": "execute_result"
    }
   ],
   "source": [
    "int(torch.argmax(result.logits)) +1"
   ]
  },
  {
   "cell_type": "code",
   "execution_count": 70,
   "metadata": {},
   "outputs": [],
   "source": [
    "# Collect Reviews\n",
    "r = requests.get('https://www.yelp.com/biz/henrys-hunan-restaurant-san-francisco-9')\n",
    "soup = BeautifulSoup(r.text, 'html.parser')\n",
    "regex = re.compile('.*comment.*')\n",
    "results = soup.find_all('p', {'class':regex})\n",
    "reviews = [result.text for result in results]"
   ]
  },
  {
   "cell_type": "code",
   "execution_count": 71,
   "metadata": {},
   "outputs": [
    {
     "data": {
      "text/plain": [
       "[<p class=\"comment__09f24__D0cxf css-qgunke\"><span class=\"raw__09f24__T4Ezm\" lang=\"en\">A very unassuming exterior with really impressive food and service. I passed this restaurant hundreds of times without giving it a second look and that was a horrible mistake. One of the best Chinese restaurants in Nōe, certainly. Great use of fresh ginger and garlic to make the dishes really flavorful. Some Chinese restaurants in the city feel like they use basically the same sauce for every dish but here, but there was distinct flavors to everything we had.<br/><br/>Feels like the kind of place that old San Franciscans come all the way from North Beach for.<br/><br/>Definitely plan on doing takeout here more routinely, even though they were very nice about the fact that our kid littered their floor with rice. Sorry!</span></p>,\n",
       " <p class=\"comment__09f24__D0cxf css-qgunke\"><span class=\"raw__09f24__T4Ezm\" lang=\"en\">First time here, and i was so happy that this restaurant was so nice and clean. When you walk in, it's very clean and quiet and modern Restaurant The ambiance is really nice.<br/>The service was amazing, very nice, and said, \"Take ur time, no need to hurry. They have many options and spicy food dishes, but he will ask if you want it very spicy or none spicy? Oh, for $1.00  more, you can order gluten-free. They are really fast at making the food here or to take out orders.<br/>The food i ordered lasted 3 days and was a lot of food.  <br/>So if you are looking for a family owned restaurant come here you won't be disappointed you will walk away very full and happy.  Oh, and they have lunch specials from 1100 to 3 pm Mon to Friday. Oh, was a mother with her two children and what i seen they ate all the food the mom ordered and you know kids they are very picky eaters.  Oh, one more thing you pick your own fresh Fortune cookie that is wrapped up so you know it's fresh and no hands touched it.<br/>Thanks for reading my review ~ Lizzie~ :)</span></p>,\n",
       " <p class=\"comment__09f24__D0cxf css-qgunke\"><span class=\"raw__09f24__T4Ezm\" lang=\"en\">Try Diana's meat pie and you'll go back over and over again for this crave-able dish. Some of the highlights...hot and sour chicken or beef, dry sautéed spring beans, and orange chicken. Hunan region is known for their smoked meats but I have yet to try it.</span></p>,\n",
       " <p class=\"comment__09f24__D0cxf css-qgunke\"><span class=\"raw__09f24__T4Ezm\" lang=\"en\">It's really 3.5 stars.  The service is slow and plates come out basically one at a time.  The broccoli chicken came out 30 minutes after we ordered it.  We ordered double plates of their crescent pork dumpling (6 dumplings for 8.50) and they were good but nothing special.  The dumplings came out first and after that, it took ten or fifteen minutes for another plate to come out.  The wait was agonizing.  Today is Chinese Lunar New Year and we avoided all the crowds and went to Noe Valley for our New Year's lunch which is close to my mom's home.  However, this restaurant is NOT equipped for serving family style meals because we ordered five plates of food and food trickled out.<br/><br/>Most people who eat there are singletons eating by themselves so they would order one or two plates of food so there's no waiting for the entire meal to come out. <br/><br/>Food was fresh but too salty.  Our favorite was the homemade pork sauce and noodle dish.  It was the only dish (and dumplings) that tasted authentic and didn't rely on some super salty artificial sauce.  The dry sauteed green beans were not that dry and were a bit oily and I hated that it had tons of bottled black bean sauce which is high in sodium.  The broccoli chicken which was described as having a \"mild brown sauce\" tasted just like the black bean sauce and was way too salty.  Overall, portion size was a bit on the small side.  It was a clean restaurant and the staff were slow but pleasant.  Their faucet is broken so if you let the water run too fast, it sprays.<br/><br/>I would recommend this place for a couple or a single person.  It's not a place for a bigger group of people.  There were four of us.  It's on a quiet street and we did find parking easily on a Sunday afternoon.</span></p>,\n",
       " <p class=\"comment__09f24__D0cxf css-qgunke\"><span class=\"raw__09f24__T4Ezm\" lang=\"en\">Great Chinese food. Tastes a lot more fresh and healthy than counterparts! A bit pricey for what you get though.</span></p>,\n",
       " <p class=\"comment__09f24__D0cxf css-qgunke\"><span class=\"raw__09f24__T4Ezm\" lang=\"en\">I forgot how much I like Henry's Hunan Restaurant. Our takeaway order was delicious.<br/><br/>The pork dumplings ($9.50 for 6) were big, juicy and stuffed with ginger and scallion-seasoned pork, really a meal unto themselves. <br/><br/>They're like potstickers but much bigger and in a gingery, savory sauce. What's not to like? My son, The Incinerator, loved them. <br/><br/>I wanted more clean tasting food that wasn't fried and the Kung Pao Pork ($15) and Hot and Sour Beef ($15.50) fit the bill. Both were generously sized with just the right amount of heat. <br/><br/>Saucy with julienned vegetables, the Kung Pao Pork had a good punch of garlic and the Hot and Sour Beef with carrot medallions and onions had that mouth/puckering sour taste that a good Hot &amp; Sour soup has. <br/><br/>Won ton soup ($11.50, worth it) was simply outstanding with a rich, lip-smacking, almost buttery broth chock full of eight huge won tons. The won tons had just a touch of ginger, perfection.<br/><br/>If you want really good, saucy, spicy Hunan food with fresh vegetables and wok hei (\"breath of the wok\") imparting an almost grilled taste, Henry's Hunan is the ticket. <br/><br/>Delivery was hot and fast via GrubHub.</span></p>,\n",
       " <p class=\"comment__09f24__D0cxf css-qgunke\"><span class=\"raw__09f24__T4Ezm\" lang=\"en\">We came here for dinner. There were perhaps 2 or 3 patrons seated, all pretty much finished with their meals. We were seated and given menus. But, then they forgot about us. No one ever came to take our order. We saw 2 women one which had given us our menus upon our arrival doing I don't know what but busy talking and a man putting small containers of hot oil on a shelf. He saw but continued his task. When we decided we had waited enough, we got up and proceed to the front door. We then see the man finally finishing his task proceed to walk towards us to take our order. Too late. Rule #1: Never ignore a paying customer. The hot oil can wait, the hungry paying customer should not. Terrible non existent service. Communication is key in doing business. A simple acknowledgement would have sufficed. Unimpressed.</span></p>,\n",
       " <p class=\"comment__09f24__D0cxf css-qgunke\"><span class=\"raw__09f24__T4Ezm\" lang=\"en\">Henry's is a San Francisco tradition and this is my favorite location now, because the parking is easy, it's very clean, and the people that work here are great.<br/><br/>There are so many good dishes but I keep ordering my favorite for lunch, which is noodles with meat sauce and vegetables.<br/><br/>The dishes are all super tasty, and I love the Hunan flavors. <br/><br/>You really must try Henry's if you like spicy Chinese food, though they have some dishes that are not spicy as well, and I promise you will be very pleased.<br/>Highly recommended!</span></p>,\n",
       " <p class=\"comment__09f24__D0cxf css-qgunke\"><span class=\"raw__09f24__T4Ezm\" lang=\"en\">This was my second time trying Henry's and it's been above average each time. We got Kung Pao chicken and Mongolian beef, and I really liked the beef. The portions were also very big which is much appreciated. Definitely will stay in my rotation of good Chinese spots.</span></p>,\n",
       " <p class=\"comment__09f24__D0cxf css-qgunke\"><span class=\"raw__09f24__T4Ezm\" lang=\"en\">Great hunan food, nice place parking is a pain but you can find a spot <br/>Food is always great here service is wonderful everytime I eat here</span></p>]"
      ]
     },
     "execution_count": 71,
     "metadata": {},
     "output_type": "execute_result"
    }
   ],
   "source": [
    "results"
   ]
  },
  {
   "cell_type": "code",
   "execution_count": 72,
   "metadata": {},
   "outputs": [
    {
     "data": {
      "text/plain": [
       "'A very unassuming exterior with really impressive food and service. I passed this restaurant hundreds of times without giving it a second look and that was a horrible mistake. One of the best Chinese restaurants in Nōe, certainly. Great use of fresh ginger and garlic to make the dishes really flavorful. Some Chinese restaurants in the city feel like they use basically the same sauce for every dish but here, but there was distinct flavors to everything we had.Feels like the kind of place that old San Franciscans come all the way from North Beach for.Definitely plan on doing takeout here more routinely, even though they were very nice about the fact that our kid littered their floor with rice. Sorry!'"
      ]
     },
     "execution_count": 72,
     "metadata": {},
     "output_type": "execute_result"
    }
   ],
   "source": [
    "results[0].text"
   ]
  },
  {
   "cell_type": "code",
   "execution_count": 73,
   "metadata": {},
   "outputs": [],
   "source": [
    "# Load Review into DataFrame and Score\n",
    "import pandas as pd\n",
    "import numpy as np\n",
    "df = pd.DataFrame(reviews, columns = ['review'])"
   ]
  },
  {
   "cell_type": "code",
   "execution_count": 74,
   "metadata": {},
   "outputs": [
    {
     "data": {
      "text/plain": [
       "'A very unassuming exterior with really impressive food and service. I passed this restaurant hundreds of times without giving it a second look and that was a horrible mistake. One of the best Chinese restaurants in Nōe, certainly. Great use of fresh ginger and garlic to make the dishes really flavorful. Some Chinese restaurants in the city feel like they use basically the same sauce for every dish but here, but there was distinct flavors to everything we had.Feels like the kind of place that old San Franciscans come all the way from North Beach for.Definitely plan on doing takeout here more routinely, even though they were very nice about the fact that our kid littered their floor with rice. Sorry!'"
      ]
     },
     "execution_count": 74,
     "metadata": {},
     "output_type": "execute_result"
    }
   ],
   "source": [
    "df['review'].iloc[0]"
   ]
  },
  {
   "cell_type": "code",
   "execution_count": 75,
   "metadata": {},
   "outputs": [],
   "source": [
    "def sentiment_score(review):\n",
    "    tokens = tokenizer.encode(review, return_tensors = 'pt')\n",
    "    result = model(tokens)\n",
    "    return int(torch.argmax(result.logits))+1"
   ]
  },
  {
   "cell_type": "code",
   "execution_count": 76,
   "metadata": {},
   "outputs": [
    {
     "data": {
      "text/html": [
       "<div>\n",
       "<style scoped>\n",
       "    .dataframe tbody tr th:only-of-type {\n",
       "        vertical-align: middle;\n",
       "    }\n",
       "\n",
       "    .dataframe tbody tr th {\n",
       "        vertical-align: top;\n",
       "    }\n",
       "\n",
       "    .dataframe thead th {\n",
       "        text-align: right;\n",
       "    }\n",
       "</style>\n",
       "<table border=\"1\" class=\"dataframe\">\n",
       "  <thead>\n",
       "    <tr style=\"text-align: right;\">\n",
       "      <th></th>\n",
       "      <th>review</th>\n",
       "      <th>sentiment</th>\n",
       "    </tr>\n",
       "  </thead>\n",
       "  <tbody>\n",
       "    <tr>\n",
       "      <th>0</th>\n",
       "      <td>A very unassuming exterior with really impress...</td>\n",
       "      <td>4</td>\n",
       "    </tr>\n",
       "    <tr>\n",
       "      <th>1</th>\n",
       "      <td>First time here, and i was so happy that this ...</td>\n",
       "      <td>5</td>\n",
       "    </tr>\n",
       "    <tr>\n",
       "      <th>2</th>\n",
       "      <td>Try Diana's meat pie and you'll go back over a...</td>\n",
       "      <td>4</td>\n",
       "    </tr>\n",
       "    <tr>\n",
       "      <th>3</th>\n",
       "      <td>It's really 3.5 stars.  The service is slow an...</td>\n",
       "      <td>3</td>\n",
       "    </tr>\n",
       "    <tr>\n",
       "      <th>4</th>\n",
       "      <td>Great Chinese food. Tastes a lot more fresh an...</td>\n",
       "      <td>4</td>\n",
       "    </tr>\n",
       "    <tr>\n",
       "      <th>5</th>\n",
       "      <td>I forgot how much I like Henry's Hunan Restaur...</td>\n",
       "      <td>3</td>\n",
       "    </tr>\n",
       "    <tr>\n",
       "      <th>6</th>\n",
       "      <td>We came here for dinner. There were perhaps 2 ...</td>\n",
       "      <td>2</td>\n",
       "    </tr>\n",
       "    <tr>\n",
       "      <th>7</th>\n",
       "      <td>Henry's is a San Francisco tradition and this ...</td>\n",
       "      <td>5</td>\n",
       "    </tr>\n",
       "    <tr>\n",
       "      <th>8</th>\n",
       "      <td>This was my second time trying Henry's and it'...</td>\n",
       "      <td>5</td>\n",
       "    </tr>\n",
       "    <tr>\n",
       "      <th>9</th>\n",
       "      <td>Great hunan food, nice place parking is a pain...</td>\n",
       "      <td>5</td>\n",
       "    </tr>\n",
       "  </tbody>\n",
       "</table>\n",
       "</div>"
      ],
      "text/plain": [
       "                                              review  sentiment\n",
       "0  A very unassuming exterior with really impress...          4\n",
       "1  First time here, and i was so happy that this ...          5\n",
       "2  Try Diana's meat pie and you'll go back over a...          4\n",
       "3  It's really 3.5 stars.  The service is slow an...          3\n",
       "4  Great Chinese food. Tastes a lot more fresh an...          4\n",
       "5  I forgot how much I like Henry's Hunan Restaur...          3\n",
       "6  We came here for dinner. There were perhaps 2 ...          2\n",
       "7  Henry's is a San Francisco tradition and this ...          5\n",
       "8  This was my second time trying Henry's and it'...          5\n",
       "9  Great hunan food, nice place parking is a pain...          5"
      ]
     },
     "execution_count": 76,
     "metadata": {},
     "output_type": "execute_result"
    }
   ],
   "source": [
    "df['sentiment'] = df['review'].apply(lambda x: sentiment_score(x[:512]))\n",
    "df"
   ]
  },
  {
   "cell_type": "code",
   "execution_count": 79,
   "metadata": {},
   "outputs": [
    {
     "data": {
      "text/plain": [
       "sentiment\n",
       "5    40.0\n",
       "4    30.0\n",
       "3    20.0\n",
       "2    10.0\n",
       "Name: proportion, dtype: float64"
      ]
     },
     "execution_count": 79,
     "metadata": {},
     "output_type": "execute_result"
    }
   ],
   "source": [
    "# Give Overall Sentiment\n",
    "df['sentiment'].value_counts(normalize = True) * 100\n"
   ]
  }
 ],
 "metadata": {
  "kernelspec": {
   "display_name": "Python 3",
   "language": "python",
   "name": "python3"
  },
  "language_info": {
   "codemirror_mode": {
    "name": "ipython",
    "version": 3
   },
   "file_extension": ".py",
   "mimetype": "text/x-python",
   "name": "python",
   "nbconvert_exporter": "python",
   "pygments_lexer": "ipython3",
   "version": "3.11.0"
  },
  "orig_nbformat": 4
 },
 "nbformat": 4,
 "nbformat_minor": 2
}
